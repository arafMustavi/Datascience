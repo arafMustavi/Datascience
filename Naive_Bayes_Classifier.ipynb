{
  "nbformat": 4,
  "nbformat_minor": 0,
  "metadata": {
    "colab": {
      "name": "Naive Bayes Classifier.ipynb",
      "provenance": [],
      "authorship_tag": "ABX9TyPT7wqwmy68hf7ls3ZGLiR/",
      "include_colab_link": true
    },
    "kernelspec": {
      "name": "python3",
      "display_name": "Python 3"
    }
  },
  "cells": [
    {
      "cell_type": "markdown",
      "metadata": {
        "id": "view-in-github",
        "colab_type": "text"
      },
      "source": [
        "<a href=\"https://colab.research.google.com/github/arafMustavi/Datascience/blob/master/Naive_Bayes_Classifier.ipynb\" target=\"_parent\"><img src=\"https://colab.research.google.com/assets/colab-badge.svg\" alt=\"Open In Colab\"/></a>"
      ]
    },
    {
      "cell_type": "markdown",
      "metadata": {
        "id": "q-fIbBIKbMkj",
        "colab_type": "text"
      },
      "source": [
        "WorkFlow:\n",
        "\n",
        "Step 1 : Extract the data and classify according to the data category\n",
        "\n",
        "Step 2 : Calculate Variance\n",
        "\n",
        "Step 3 : Predict the class"
      ]
    },
    {
      "cell_type": "code",
      "metadata": {
        "id": "iZ81Y_kgbI0f",
        "colab_type": "code",
        "colab": {}
      },
      "source": [
        ""
      ],
      "execution_count": null,
      "outputs": []
    }
  ]
}