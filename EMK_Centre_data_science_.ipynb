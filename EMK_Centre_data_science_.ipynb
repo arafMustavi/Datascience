{
  "nbformat": 4,
  "nbformat_minor": 0,
  "metadata": {
    "kernelspec": {
      "display_name": "Python 3",
      "language": "python",
      "name": "python3"
    },
    "language_info": {
      "codemirror_mode": {
        "name": "ipython",
        "version": 3
      },
      "file_extension": ".py",
      "mimetype": "text/x-python",
      "name": "python",
      "nbconvert_exporter": "python",
      "pygments_lexer": "ipython3",
      "version": "3.7.4"
    },
    "colab": {
      "name": "EMK Centre data science .ipynb",
      "provenance": []
    }
  },
  "cells": [
    {
      "cell_type": "markdown",
      "metadata": {
        "id": "EbdgFzmx6j35",
        "colab_type": "text"
      },
      "source": [
        "# Question 1 : point -- 35"
      ]
    },
    {
      "cell_type": "markdown",
      "metadata": {
        "id": "gf0p4r9p6j3-",
        "colab_type": "text"
      },
      "source": [
        "Let's say, you have a set of text or a document. You have a to build a dataframe where for every sentence, there will be columns for--\n",
        "\n",
        "1. Number of the words in that sentence\n",
        "2. Frequency of the word 'a' or 'an', irrespective of uppercase or lowercase\n",
        "3. Frequency of the word 'the', irrespective of uppercase or lowercase\n",
        "4. Frequency of the word 'is' or 'are' or 'was' or 'were', irrespective of uppercase or lowercase\n",
        "5. Number of words in that sentence that are unique to the whole document. For example, think about the first sentence in the green document, <font color='green'>It is so great to state that Mark is a great man. But may be his brother Mathew is not.</font>. The unique words for the first sentence that wasn't used in rest of the documents are, **It, so, great, to, state that, Mark, a, man**. Although the word \"great\" appeared twice, we count it only once."
      ]
    },
    {
      "cell_type": "code",
      "metadata": {
        "id": "lQMeLy1c6j4A",
        "colab_type": "code",
        "colab": {
          "base_uri": "https://localhost:8080/",
          "height": 108
        },
        "outputId": "8c654a4e-0035-4ae7-d19f-7729c20e9d63"
      },
      "source": [
        "import pandas as pd\n",
        "TEXT_string = \"The World Health Organisation (WHO) defines asymptomatic cases as those who don't show symptoms but have been confirmed infected through a lab test. WHO notes there are few reports of truly asymptomatic cases. The incubation period, or the time a person takes to show symptoms after getting infected, is the pre-symptomatic phase, the WHO says. Carriers can infect others during this period. Health experts are not yet sure whether asymptomatic or pre-symptomatic cases are infectious. Some say data so far suggests those cases are probably equally likely to be able to spread infection.\"\n",
        "#Your code here\n",
        "\n",
        "####### 01 ##########\n",
        "words =  TEXT_string.split(\" \")\n",
        "print(\"1. Total Words:{}\".format(len(words)))\n",
        "\n",
        "####### 02 ##########\n",
        "freq_aan = 0\n",
        "for i in words:\n",
        "  test = i.lower()\n",
        "  if ('a' == str(test)) or ('an' == str(test)):\n",
        "    freq_aan += 1\n",
        "print(\"2. 'a' and 'an' count:{}\".format(freq_aan))\n",
        "\n",
        "####### 03 ##########\n",
        "freq_the = 0\n",
        "for i in words:\n",
        "  test = i.lower()\n",
        "  if ('the' == str(test)):\n",
        "    freq_the += 1\n",
        "print(\"3. 'the' count:{}\".format(freq_the))\n",
        "\n",
        "####### 04 ##########\n",
        "freq_is_are = 0\n",
        "for i in words:\n",
        "  test = i.lower()\n",
        "  if ('is' == str(test)) or ('are' == str(test)) or ('was' == str(test)) or ('were' == str(test)):\n",
        "    freq_is_are += 1\n",
        "print(\"4. 'is' or 'are' or 'was' or 'were' count:{}\".format(freq_is_are))\n",
        "\n",
        "####### 05 ##########\n",
        "unique_set = set()\n",
        "for i in words:\n",
        "  test = i.lower()\n",
        "  unique_set.add(test)\n",
        "print(\"5. Unique words count: {}\".format(len(unique_set)))\n"
      ],
      "execution_count": 8,
      "outputs": [
        {
          "output_type": "stream",
          "text": [
            "1. Total Words:93\n",
            "2. 'a' and 'an' count:2\n",
            "3. 'the' count:5\n",
            "4. 'is' or 'are' or 'was' or 'were' count:5\n",
            "5. Unique words count:71\n"
          ],
          "name": "stdout"
        }
      ]
    },
    {
      "cell_type": "markdown",
      "metadata": {
        "id": "-1rI8S3C6j4L",
        "colab_type": "text"
      },
      "source": [
        "# Question 2 : point -- 30"
      ]
    },
    {
      "cell_type": "markdown",
      "metadata": {
        "id": "ywSPGtfQ6j4O",
        "colab_type": "text"
      },
      "source": [
        "Download the titanic dataset from this link: https://www.kaggle.com/c/titanic/data. You have to open a kaggle account for this. At this page, if you clock on 'Data', you will find a place where it's written 'Download All\". Click on that and a zip file will be downloaded. Unzip it and we will work with the file named \"train.csv\" in this folder."
      ]
    },
    {
      "cell_type": "markdown",
      "metadata": {
        "id": "MvJqPObC6j4P",
        "colab_type": "text"
      },
      "source": [
        "Please andwer the follwoing questions from the dataset by must writing code. Your code output should be the answer of the question. \n",
        "\n",
        "1. What is the maximum fare and what is the name of the passenger who bought it?\n",
        "2. What is the percentage of male that survived among all male passengers and what is the percentage of female that survived among all female passengers? Note: 0 means not survived and 1 means survived\n",
        "3. What is the median age for all the passengers? What is the median age for male and female passengers?\n",
        "4. How many passengers were there who were aged less than 25, female and survived? "
      ]
    },
    {
      "cell_type": "code",
      "metadata": {
        "id": "ND4PfQh96j4Q",
        "colab_type": "code",
        "colab": {}
      },
      "source": [
        "# Your code here"
      ],
      "execution_count": null,
      "outputs": []
    },
    {
      "cell_type": "markdown",
      "metadata": {
        "id": "s4vbzMg56j4Y",
        "colab_type": "text"
      },
      "source": [
        "# Question 3 : point -- 35"
      ]
    },
    {
      "cell_type": "markdown",
      "metadata": {
        "id": "3LD1vhUT6j4a",
        "colab_type": "text"
      },
      "source": [
        "**Must use pandas groupby method**\n",
        "\n",
        "Please answer the follwoing questions from the dataset by must writing code. Your code output should be the answer of the question. \n",
        "\n",
        "1. Pclass means which class a passanger got in. Find the mean ticket fare for all the classes.\n",
        "2. What is the probablity of your survival if you got in the first class, vs if you got in the third class. In which class it is more likely for you to survive?\n",
        "3. Embarked means from where a passenger got in. Here, C = Cherbourg, Q = Queenstown, S = Southampton. What is the male and feamle ration for all these places that got in Titanic. \n",
        "4. Build a custom age grouper: kids: less than 18 years of age, youths: 18+ and less than 45, Aged: 45+. For each of these groups, find the mean age and percentage of survival."
      ]
    },
    {
      "cell_type": "code",
      "metadata": {
        "id": "hvm0kgu06j4b",
        "colab_type": "code",
        "colab": {}
      },
      "source": [
        "# Your code here"
      ],
      "execution_count": null,
      "outputs": []
    },
    {
      "cell_type": "code",
      "metadata": {
        "id": "ui6uNzen6j4j",
        "colab_type": "code",
        "colab": {}
      },
      "source": [
        ""
      ],
      "execution_count": null,
      "outputs": []
    }
  ]
}